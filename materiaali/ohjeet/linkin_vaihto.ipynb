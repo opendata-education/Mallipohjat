{
 "cells": [
  {
   "cell_type": "markdown",
   "metadata": {},
   "source": [
    "# Kuinka vaihdan datasetin mallipohjaan?\n",
    "\n",
    "MyBinder ja Google Collab ovat mahtavia alustoja siinä, että niihin voidaan syöttää haluttu tekstitiedosto/datasetti pelkän linkin avulla, eikä näin tarvita mitään säätämistä oikeiden tiedostopolkujen kanssa. Kuinkas sitten näihin mallipohjiin voidaan vaihtaa joku itseä kiinnostava datasetti?\n",
    "\n",
    "### 1. Kopioi linkki suoraan tarjotusta datatiedostosta\n",
    "\n",
    "Mikäli olet onnistunut löytämään datasetin, joka täyttää seuraavat kriteerit\n",
    "1. Sieltä saa kopioitua linkin suoraan datasettiin\n",
    "2. Linkki on julkinen, eli sen nähdäkseen ei tarvitse kirjautua sisään tai painella mitään nappuloita,\n",
    "\n",
    "Niin voit käyttää kyseistä linkkiä näiden mallipohjien (ja yleisesti Jupyter Notebookeissa) sellaisenaan. Huippua!\n",
    "Tässä on kuitenkin muutamia vaaranpaikkoja, jotka kannattaa ottaa huomioon. Näitä ovat esimerkiksi\n",
    "1. Datasetin paikkaa muutetaan nettisivuilla, ja sen linkki muuttuu\n",
    "2. Datasetti poistetaan nettisivuilta, ja sitä ei löydy enää ollenkaan sen jälkeen\n",
    "3. Datasettiä muutetaan tai päivitetään, jolloin linkki voi myös muuttua.\n",
    "\n",
    "Suoran linkin kopioimisen hyöty on siinä, jos haluat pyöritellä kyseistä datasettiä nyt lähipäivien aikana. Jos taas toivot pidempiaikaista käyttöä tehtävällesi, niin kannattaa tehdä se tavalla 2. Monet sivustot eivät myöskään tarjoa mahdollisuutta datasettien linkkaamiseen, jolloin ainoaksi vaihtoehdoksi tarjotaan datasetin lataamista. Näissäkin tilanteissa voidaan tehdä tavalla 2.\n",
    "\n",
    "### 2. GitHub\n",
    "\n",
    "[Tästä GitHubiin](https://github.com/)\n",
    "\n",
    "GitHub on nettisivusto ja pilvipalvelu, joka on suunniteltu erityisesti koodauksen parissa pyörivien ihmisten ja tiimien tarpeita silmällä pitäen. Siellä ihmiset ja tiimit voivat varastoida ja hallita omia tiedostojaan, ja siellä on mukavat puitteet esimerkiksi versionhallintaan ja yhteistyökäyttöön. Kaikki tämä on tarpeellista etenkin isompien projektien parissa, mutta meidän ei tarvitse olla siellä asteella vielä. Jos koodaukseen suunnitellun ympäristön käyttäminen kuulostaa hurjalta, niin ehkä on lohduttavaa kuulla, että GitHubista on tullut sen verran toimiva ympäristö, että sitä hyödynnetään myös esimerkiksi kirjojen kirjoittamisessa.\n",
    "\n",
    "Etenkin ensikertalaiselle tämä reitti saattaa tuntua turhan pitkältä, mutta lupaan, että kunhan sen on kerran käynyt läpi, niin homma toimii jatkossa kuin rasvattu.\n",
    "\n",
    "```{admonition} Osa 1\n",
    "Rekisteröidy GitHubiin ja tee oma käyttäjä.\n",
    "```\n",
    "\n",
    "```{admonition} Osa 2\n",
    "Tee itsellesi uusi julkinen repositorio GitHubiin.\n",
    "```\n",
    "\n",
    "Kun sinulla on käyttäjätunnus GitHubiin, löydät oman profiilisi takaa arkistot (repository/repositories). Arkistot tunnetaan yleisesti nimillä repositorio ja repo. Voit luoda käyttäjäsi taakse useita repositorioita eri tarkoituksiin, joko julkisina tai yksityisinä. Jos olisit kirjoittamassa kirjaa, niin yksi repositorio voisi olla esimerkiksi yhtä kirjaa varten. Repositoriot voivat sisältää useita eri kansioita ja alakansioita, mikä tekee järjestelystä helppoa.\n",
    "\n",
    "Tarvitset nyt yhden yhden reposition, jonne voit säilöä kaikki kiinnostavat datatiedostosi. **Huomaathan, että tämän repositorion tulee olla julkinen, jotta voit avata sinne johtavat linkit notebookeilla**.\n",
    "\n",
    "![uusi_repo](../kuvat/new_repo.png)\n",
    "\n",
    "```{admonition} Osa 3\n",
    "Lisää datasetti luomaasi repositorioon.\n",
    "```\n",
    "\n",
    "Kun meillä on repositorio valmiina, me voidaan hyödyntää sitä jatkossa tarpeellisten asioiden tallentamiseen. Lisätään sinne nyt meidän haluttu datasetti. Kun lisäät datasettiä, paina **commit changes**, mikä tarkoittaa vain sitä, että suoritetaan nämä repositorioon tehdyt muutokset (eli tässä tapauksessa tiedoston lisääminen) loppuun.\n",
    "\n",
    "![lisaa_tiedosto](../kuvat/add_files.png)\n",
    "\n",
    "```{admonition} Osa 4\n",
    "Kopioidaan datasetistä raakalinkki käytettäväksi.\n",
    "```\n",
    "\n",
    "Kun datasetti on sisällä, niin päästään luomaan siitä raakalinkki. Kuulostaa vaikeammalta kuin onkaan, sillä GitHub tarjoaa tämän vaihtoehdon meille varsin helposti. Avaat vain ensin datatiedoston repositoriosta, jonka jälkeen painat **RAW**-nappia. Nyt sinulle avautuu kyseisestä tiedostosta ns. raakaversio, jonka linkkiä voit käyttää huoletta kaikissa notebookeissa. Linkin voit kopioida suoraan selaimesta raakaversion osoiteriviltä. \n",
    "\n",
    "![raakalinkki](../kuvat/raw_link.png)"
   ]
  }
 ],
 "metadata": {
  "kernelspec": {
   "display_name": "Python 3",
   "language": "python",
   "name": "python3"
  },
  "language_info": {
   "codemirror_mode": {
    "name": "ipython",
    "version": 3
   },
   "file_extension": ".py",
   "mimetype": "text/x-python",
   "name": "python",
   "nbconvert_exporter": "python",
   "pygments_lexer": "ipython3",
   "version": "3.8.5"
  }
 },
 "nbformat": 4,
 "nbformat_minor": 4
}
