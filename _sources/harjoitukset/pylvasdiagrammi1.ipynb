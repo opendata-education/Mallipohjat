{
 "cells": [
  {
   "cell_type": "markdown",
   "metadata": {},
   "source": [
    "# Pylväsdiagrammi 1 – data sarakkeesta\n",
    "\n",
    "#### Tämä pohja on tehty sinulle muokattavaksi.\n",
    "\n",
    "Kuinka mukavia ovatkaan pylväsdiagrammit ja niiden mahdollistamat pohdintatehtävät! Tässä on esitelty, kuinka voit nopeasti pyöräyttää kuvaajan valitsemasi datasetin yhden sarakkeen tiedoista. Jos innostusta riittää monipuolisempaan tarkasteluun, niin alempana on annettu esimerkki siitä, kuinka tehdään kumulatiivisia pylväsdiagrammeja. Voit myös käyttää tätä kyseistä datasettiä ruuan hiilipäästöistä, joka on napattu [täältä](https://ourworldindata.org/environmental-impacts-of-food#you-want-to-reduce-the-carbon-footprint-of-your-food-focus-on-what-you-eat-not-whether-your-food-is-local). Tähän datasettiin on kerätty tieto, mistä muutamien erilaisten ruoka-aineiden hiilidioksidipäästöt syntyvät, ja kuinka suuria nämä päästöt ovat sektoreittain.\n",
    "\n",
    "Voit siis käyttää tätä tiedostoa mallipohjana, jos haluat tehdä pylväsdiagrammin jonkin datatiedoston sarakkeesta. Luet vain oman datatiedoston, muokkailet vähän muuttujien nimiä ja lisäät sopivat tekstit ympärille. Jos tulee ongelmia joihin ei Googlesta tunnu löytyvän vastausta, niin meille voi aina laittaa sähköpostia matalalla kynnyksellä."
   ]
  },
  {
   "cell_type": "code",
   "execution_count": null,
   "metadata": {},
   "outputs": [],
   "source": [
    "# Ladataan tietokirjastot käyttöön.\n",
    "\n",
    "import pandas as pd\n",
    "import matplotlib.pyplot as plt\n",
    "import numpy as np"
   ]
  },
  {
   "cell_type": "code",
   "execution_count": null,
   "metadata": {
    "scrolled": true
   },
   "outputs": [],
   "source": [
    "# Luetaan csv-tiedosto, joka on ladattu GitHubiin.\n",
    "# Head-komennolla nähdään, miltä valittu datatiedosto näyttää.\n",
    "\n",
    "ruuan_paastot = pd.read_csv('https://raw.githubusercontent.com/opendata-education/Mallipohjat/main/materiaali/data/food-emissions-supply-chain.csv')\n",
    "ruuan_paastot.head()"
   ]
  },
  {
   "cell_type": "markdown",
   "metadata": {},
   "source": [
    "### Pylväsdiagrammi yhdestä sarakkeesta\n",
    "\n",
    "Valitaan tarkasteltavaksi sarakkeeksi ruoka-aineiden maankäytöstä syntyvät hiilipäästöt."
   ]
  },
  {
   "cell_type": "code",
   "execution_count": null,
   "metadata": {},
   "outputs": [],
   "source": [
    "# Lajitellaan datatiedosto uudestaan maankäytöstä syntyvien päästöjen suuruuden mukaan.\n",
    "# Yleensä pylväsdiagrammit tuppaa olemaan siistimpiä, kun pylväät ovat suuruusjärjestyksessä.\n",
    "\n",
    "ruuan_paastot_lajiteltu = ruuan_paastot.sort_values('food_emissions_land_use')\n",
    "\n",
    "# Tallennetaan muuttujaan 'ruuat' datasetissä olevien ruokien nimet.\n",
    "# Tallennetaan muuttujaan 'maan_kaytto' maankäytöstä tulevat hiilipäästöt.\n",
    "\n",
    "ruuat = ruuan_paastot_lajiteltu['Entity']\n",
    "maan_kaytto = ruuan_paastot_lajiteltu['food_emissions_land_use']"
   ]
  },
  {
   "cell_type": "markdown",
   "metadata": {},
   "source": [
    "```{margin} Tärkeää huomata\n",
    "Molempiin muuttujiin 'ruuat' ja 'maan_kaytto' tallennettavat tiedot tulee ottaa lajitellusta\n",
    "datatiedostosta, jotta ruokien nimet ja päästöjen suuruudet eivät mene keskenään sekaisin. Eli molemmat\n",
    "tiedot joko lajitellusta tiedosta tai alkuperäisestä, ei sekoituksia.  \n",
    "```\n",
    "\n",
    "Sitten jatketaan piirtämällä meidän kuvaaja. Koska x-akselille tulisi useita ruokien nimiä, niin helpomman tarkastelun vuoksi tehdään nyt horisontaalinen kuvaaja. "
   ]
  },
  {
   "cell_type": "code",
   "execution_count": null,
   "metadata": {},
   "outputs": [],
   "source": [
    "plt.figure(figsize = (10, 12)) # Muokkaa kuvaajan kokoa vaihtamalla numeroita, testailemalla löytää sopivan\n",
    "\n",
    "plt.barh(ruuat, maan_kaytto) # horisontaalinen kuvaaja komennolla 'plt.barh(y,x)' ja vertikaalinen 'plt.bar(x,y)'\n",
    "plt.title('Otsikko')\n",
    "plt.xlabel('x-akselin nimi')\n",
    "plt.ylabel('y-akselin nimi')\n",
    "\n",
    "#plt.xticks(rotation=90) #Ota tämä rivi käyttöön, jos valitset vertikaalisen kuvaajan. Kääntää pylväiden nimet.\n",
    "\n",
    "#plt.axhline(0, color='grey') #Jos haluat vertikaaliseen kuvaajaan viivan, missä y = 0.\n",
    "plt.axvline(0, color='grey') #Jos haluat horisontaaliseen kuvaajaan viivan, missä x = 0.\n",
    "\n",
    "plt.show()"
   ]
  },
  {
   "cell_type": "markdown",
   "metadata": {},
   "source": [
    "### Kumulatiivinen pylväsdiagrammi\n",
    "\n",
    "Tässäkin tapauksessa olisi kuitenkin mielenkiintoista tarkastella sitä, mistä sektoreista eri ruokien päästöt koostuvat ja miten niiden suuruudet vertautuvat toisiinsa. Pylväsdiagrammien tapauksessa kumulatiivisen kuvaajan tekemisessä on hieman enemmän työtä, mutta onneksi sen tekeminen on varsin suoraviivaista."
   ]
  },
  {
   "cell_type": "code",
   "execution_count": null,
   "metadata": {},
   "outputs": [],
   "source": [
    "# Koska tässä datasetissä ei ole valmiiksi saraketta kokonaispäästöille, tehdään se nyt.\n",
    "# Tätä tarvitaan siihen, että voidaan jälleen kerran järjestellä lopulliset pylväät suuruusjärjestykseen.\n",
    "# Jos sinun datasetissä on jo tätä vastaava tieto tarjolla, niin voit pyyhkiä tämän osuuden pois. \n",
    "\n",
    "yht = np.zeros(len(ruuan_paastot)) # tallennetaan muuttujaan 'yht' niin monta nollaa, kuin meidän datasetin pituus on.\n",
    "ruuan_paastot[\"Total\"] = yht # Tehdään uusi sarake nimeltä 'Total', ja laitetaan sinne edellisen rivin nollat.\n",
    "ruuan_paastot.head() # Katsotaan, että uusi sarake nollineen ilmestyi sinne."
   ]
  },
  {
   "cell_type": "code",
   "execution_count": null,
   "metadata": {},
   "outputs": [],
   "source": [
    "# Lasketaan jokaiselta riviltä kokonaispäästöt summaamalla olennaisten sarakkeiden tiedot yhteen rivi riviltä.\n",
    "# Tämä voi näyttää sekavalta ja vaikealta, niin listaan tänne valmiiksi ne asiat, mitä sinne pitää muuttaa.\n",
    "\n",
    "for i in range(len(ruuan_paastot)): # se muuttuja, joka sisältää datasetin\n",
    "    ruuan_paastot[\"Total\"][i] # Datasetin muuttuja ja se sarake, joka on täynnä nollia\n",
    "                                = (ruuan_paastot['food_emissions_land_use'][i] # datasetin muuttuja ja sarakkeen nimi\n",
    "                                 + ruuan_paastot['food_emissions_farm'][i] # ja jokainen sarake erikseen,\n",
    "                                 + ruuan_paastot['food_emissions_animal_feed'][i] # jotka haluat mukaan laskuun\n",
    "                                 + ruuan_paastot['food_emissions_processing'][i]\n",
    "                                 + ruuan_paastot['food_emissions_transport'][i]\n",
    "                                 + ruuan_paastot['food_emissions_retail'][i]\n",
    "                                 + ruuan_paastot['food_emissions_packaging'][i]\n",
    "                                 + ruuan_paastot['food_emissions_losses'][i])\n",
    "    \n",
    "ruuan_paastot.head() # Tarkistetaan, että näyttää oikealta.\n",
    "\n",
    "# Tästä tulee punainen virhekoodi, mutta se ei haittaa."
   ]
  },
  {
   "cell_type": "code",
   "execution_count": null,
   "metadata": {},
   "outputs": [],
   "source": [
    "# Nyt lajitellaan datasetti kokonaispäästöjen mukaan ja tallennetaan se uuteen muuttujaan\n",
    "# Jos sinun ei tarvinnut tehdä uutta saraketta lajittelua varten, voit hypätä tässä kohtaa taas takaisin mukaan.\n",
    "\n",
    "ruuan_paastot_lajiteltu2 = ruuan_paastot.sort_values('Total')\n",
    "\n",
    "# Uusi muuttuja ruuille, jotta ne tallennetaan oikeassa järjestyksessä\n",
    "ruuat2 = ruuan_paastot_lajiteltu2['Entity']"
   ]
  },
  {
   "cell_type": "code",
   "execution_count": null,
   "metadata": {},
   "outputs": [],
   "source": [
    "# Selkeyden vuoksi tallennetaan jokaisen sarakkeen tiedot omiin muuttujiin.\n",
    "# Tässäkin tärkeää ottaa tiedot nyt uudestaan lajitellusta datasetistä.\n",
    "\n",
    "data1 = ruuan_paastot_lajiteltu2['food_emissions_land_use']\n",
    "data2 = ruuan_paastot_lajiteltu2['food_emissions_farm']\n",
    "data3 = ruuan_paastot_lajiteltu2['food_emissions_animal_feed']\n",
    "data4 = ruuan_paastot_lajiteltu2['food_emissions_processing']\n",
    "data5 = ruuan_paastot_lajiteltu2['food_emissions_transport']\n",
    "data6 = ruuan_paastot_lajiteltu2['food_emissions_retail']\n",
    "data7 = ruuan_paastot_lajiteltu2['food_emissions_packaging']\n",
    "data8 = ruuan_paastot_lajiteltu2['food_emissions_losses']"
   ]
  },
  {
   "cell_type": "markdown",
   "metadata": {},
   "source": [
    "Piirretään itse kuvaaja. Kumulatiivisen pylväsdiagrammin toimintaideana on, että ensin piirretään ensimmäinen pylväs. Sen jälkeen piirretään seuraava pylväs, mutta laitetaan se alkamaan ensimmäisen pylvään lopusta. Vastaavasti kolmas pylväs laitetaan alkamaan ensimmäisen ja toisen pylvään summan lopusta. Tätä sarjaa toistetaan niin pitkään, kunnes kaikki halutut pylväät on piirretty.\n",
    "\n",
    "Nyt varmaan käy selväksi, miksi haluttiin tallentaa jokaisen sarakkeen tiedot helpompiin muuttujiin? \n",
    "\n",
    "Jokaisella rivillä on nyt piirretty yksi yksittäinen pylväs, valittu sille väri, nimi ja laskettu pylvään alkamispaikka. Koska tässä piirretään nyt horisontaalista kuvaajaa, pylvään alkupaikka määritetään komennolla 'left'. Jos olet tekemässä vertikaalista kuvaajaa, vaihda komennoksi 'bottom'. Vertikaalisen kuvaajan tapauksessa muista myös vaihtaa komento 'plt.barh(y,x)' komentoon 'plt.bar(x,y)'."
   ]
  },
  {
   "cell_type": "code",
   "execution_count": null,
   "metadata": {},
   "outputs": [],
   "source": [
    "plt.figure(figsize = (20, 15)) # Voit taas muokata kuvaajan koon sopivaksi vaihtelemalla numeroita.\n",
    "\n",
    "plt.barh(ruuat2, data1, color = 'red', label = 'Maan käyttö') # Ensimmäinen pylväs\n",
    "plt.barh(ruuat2, data2, left=data1, color = 'orange', label = 'Maatila') # Toinen pylväs\n",
    "plt.barh(ruuat2, data3, left=(data1+data2), color = 'yellow', label = 'Eläimen ruoka') # Kolmas pylväs\n",
    "plt.barh(ruuat2, data4, left=(data1+data2+data3), color = 'green', label = 'Prosessointi')\n",
    "plt.barh(ruuat2, data5, left=(data1+data2+data3+data4), color = 'aqua', label = 'Kuljetus')\n",
    "plt.barh(ruuat2, data6, left=(data1+data2+data3+data4+data5), color = 'blue', label = 'Jälleenmyynti')\n",
    "plt.barh(ruuat2, data7, left=(data1+data2+data3+data4+data5+data6), color = 'fuchsia', label = 'Pakkaus')\n",
    "plt.barh(ruuat2, data8, left=(data1+data2+data3+data4+data5+data6+data7), color = 'purple', label = 'Häviöt')\n",
    "\n",
    "plt.title('Otsikko')\n",
    "plt.xlabel('x-akselin nimi')\n",
    "plt.ylabel('y-akselin nimi')\n",
    "\n",
    "plt.legend(loc = 'lower right') # Printataan pylväiden nimet näkyviin.\n",
    "plt.show()"
   ]
  },
  {
   "cell_type": "markdown",
   "metadata": {},
   "source": [
    "Tästäkin jo saadaan mukavasti pohdittavaa – onko esimerkiksi lähiruoka niin ympäristöystävällistä, kuin yleisesti halutaan uskoa? Toivottavasti tästä mallipohjasta oli apua, ja mukavia hetkiä pylväsdiagrammien pariin!"
   ]
  }
 ],
 "metadata": {
  "kernelspec": {
   "display_name": "Python 3",
   "language": "python",
   "name": "python3"
  },
  "language_info": {
   "codemirror_mode": {
    "name": "ipython",
    "version": 3
   },
   "file_extension": ".py",
   "mimetype": "text/x-python",
   "name": "python",
   "nbconvert_exporter": "python",
   "pygments_lexer": "ipython3",
   "version": "3.8.5"
  }
 },
 "nbformat": 4,
 "nbformat_minor": 4
}
