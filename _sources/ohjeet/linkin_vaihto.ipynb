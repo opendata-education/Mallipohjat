{
 "cells": [
  {
   "cell_type": "markdown",
   "metadata": {
    "id": "x1KvfNciX0i3"
   },
   "source": [
    "# Kuinka vaihdan datan mallipohjaan?\n",
    "\n",
    "MyBinder ja Google Colab ovat mahtavia alustoja, joihin voidaan syöttää haluttu tekstitiedosto (datasetti) pelkän linkin avulla ilman ihmeempää tiedostopolkujen kanssa säätämistä. Verkkosivuilla valmiina olevat harjoitukset ovat mukavia, mutta miten näihin mallipohjiin voidaan vaihtaa joku juuri *sinua* kiinnostava aineisto?\n",
    "\n",
    "### Menetelmä 1: Kopioi linkki suoraan tarjotusta aineistosta.\n",
    "\n",
    "Mikäli olet onnistunut löytämään lähteen (vaikkapa verkkosivun), joka täyttää seuraavat kriteerit:\n",
    "1. sieltä saa kopioitua linkin suoraan datasettiin\n",
    "2. linkki on julkinen (ei vaadi kirjautumisia tai muita rajoituksia),\n",
    "\n",
    "voit käyttää kyseistä linkkiä näiden mallipohjien (ja yleisesti Jupyter Notebookien) kanssa sellaisenaan. Huippua!\n",
    "Tässä on kuitenkin muutamia vaaranpaikkoja, jotka kannattaa ottaa huomioon. Näitä ovat esimerkiksi:\n",
    "1. Datasetin paikkaa muutetaan nettisivuilla, ja sen linkki muuttuu.\n",
    "2. Datasetti poistetaan nettisivuilta, eikä sitä löydy enää ollenkaan sen jälkeen.\n",
    "3. Datasettiä muutetaan tai päivitetään, jolloin linkki voi myös muuttua.\n",
    "\n",
    "Suoran linkin kopioimisen etuna on sen helppous. Jos haluat pyöritellä kyseistä aineistoa nyt heti, anna mennä. Jos taas toivot pidempiaikaista käyttöä tehtävällesi, kannattaa harkita tapaa 2. Kaikki verkkosivut eivät tarjoa mahdollisuutta datasettien linkkaamiseen, jolloin ainoaksi vaihtoehdoksi tarjotaan datasetin lataamista. Näissäkin tilanteissa voidaan tehdä tavalla 2.\n",
    "\n",
    "### Menetelmä 2: GitHub.\n",
    "\n",
    "[Tästä GitHubiin](https://github.com/)\n",
    "\n",
    "GitHub on verkkosivusto ja pilvipalvelu, joka on suunniteltu erityisesti koodauksen parissa pyörivien ihmisten ja tiimien tarpeita silmällä pitäen. Ihmiset ja tiimit voivat varastoida ja hallita siellä omia tiedostojaan, minkä lisäksi siellä on mukavat puitteet esimerkiksi versionhallintaan ja yhteistyökäyttöön. Kaikki tämä on tarpeellista etenkin isompien projektien parissa, mutta tavallisessa käytössä siitä ei tarvitse huolehtia. Jos koodaukseen suunnitellun ympäristön käyttäminen kuulostaa hurjalta, on kenties lohduttavaa kuulla sitä hyödynnettävän sujuvasti myös esimerkiksi kirjojen kirjoittamisessa.\n",
    "\n",
    "Etenkin ensikertalaiselle tämä reitti saattaa tuntua turhan pitkältä, mutta lupaan, että kunhan sen on kerran käynyt läpi, niin homma toimii jatkossa kuin rasvattu.\n",
    "\n",
    "```{admonition} Osa 1\n",
    "Rekisteröidy GitHubiin ja tee oma käyttäjätili.\n",
    "```\n",
    "\n",
    "```{admonition} Osa 2\n",
    "Tee itsellesi uusi julkinen repositorio GitHubiin.\n",
    "```\n",
    "\n",
    "Kun sinulla on käyttäjätunnus GitHubiin, löydät oman profiilisi takaa arkistot (repository / repositories). Arkistot tunnetaan yleisesti nimillä repositorio eli repo. Voit luoda käyttäjäsi taakse useita repositorioita eri tarkoituksiin, joko julkisina tai yksityisinä. Jos olisit kirjailija, voisi sinulla olla esimerkiksi oma repositorio kullekin kirjaprojektillesi. Repositoriot voivat sisältää useita eri kansioita ja alakansioita, mikä tekee järjestelystä helppoa.\n",
    "\n",
    "Tarvitset nyt yhden repositorion, jonne voit säilöä kaikki kiinnostavat datatiedostosi. **Huomaathan, että tämän repositorion tulee olla julkinen, jotta voit avata sinne johtavat linkit notebookeilla**.\n",
    "\n",
    "![uusi_repo](https://github.com/opendata-education/Mallipohjat/blob/main/materiaali/kuvat/new_repo.png?raw=1)\n",
    "\n",
    "```{admonition} Osa 3\n",
    "Lisää datasetti luomaasi repositorioon.\n",
    "```\n",
    "\n",
    "Kun meillä on repositorio valmiina, voimme hyödyntää sitä jatkossa tarpeellisten asioiden tallentamiseen. Lisätään sinne nyt haluttu datasettimme. Kun lisäät tiedostoja, paina **commit changes**, mikä tarkoittaa vain sitä, että nykyiset repositorioon tehdyt muutokset (eli tässä tapauksessa tiedoston lisääminen) suoritetaan loppuun.\n",
    "\n",
    "![lisaa_tiedosto](https://github.com/opendata-education/Mallipohjat/blob/main/materiaali/kuvat/add_files.png?raw=1)\n",
    "\n",
    "```{admonition} Osa 4\n",
    "Kopioidaan datasetistä raakalinkki käytettäväksi.\n",
    "```\n",
    "\n",
    "Kun datasetti on paikallaan, voimme luoda siihen suoran \"raakalinkin\" edellisen menetelmän tavoin. GitHub tarjoaa tämän vaihtoehdon meille varsin helposti. Avaa datatiedosto repositoriosta ja paina **RAW**-nappia. Nyt sinulle avautuu kyseisestä tiedostosta ns. raakaversio, johon voit huoletta linkata kaikissa notebookeissa. Linkin voit kopioida suoraan selaimesta raakaversion osoiteriviltä. \n",
    "\n",
    "![raakalinkki](https://github.com/opendata-education/Mallipohjat/blob/main/materiaali/kuvat/raw_link.png?raw=1)"
   ]
  }
 ],
 "metadata": {
  "colab": {
   "provenance": []
  },
  "kernelspec": {
   "display_name": "Python 3",
   "language": "python",
   "name": "python3"
  },
  "language_info": {
   "codemirror_mode": {
    "name": "ipython",
    "version": 3
   },
   "file_extension": ".py",
   "mimetype": "text/x-python",
   "name": "python",
   "nbconvert_exporter": "python",
   "pygments_lexer": "ipython3",
   "version": "3.8.5"
  }
 },
 "nbformat": 4,
 "nbformat_minor": 1
}
